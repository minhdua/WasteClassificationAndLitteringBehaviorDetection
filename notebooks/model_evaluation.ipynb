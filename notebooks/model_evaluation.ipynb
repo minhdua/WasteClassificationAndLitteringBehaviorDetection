{
 "cells": [
  {
   "cell_type": "code",
   "execution_count": 10,
   "metadata": {},
   "outputs": [
    {
     "name": "stdout",
     "output_type": "stream",
     "text": [
      "WARNING:tensorflow:5 out of the last 5 calls to <function Model.make_predict_function.<locals>.predict_function at 0x000001ED94E75AB0> triggered tf.function retracing. Tracing is expensive and the excessive number of tracings could be due to (1) creating @tf.function repeatedly in a loop, (2) passing tensors with different shapes, (3) passing Python objects instead of tensors. For (1), please define your @tf.function outside of the loop. For (2), @tf.function has reduce_retracing=True option that can avoid unnecessary retracing. For (3), please refer to https://www.tensorflow.org/guide/function#controlling_retracing and https://www.tensorflow.org/api_docs/python/tf/function for  more details.\n",
      "1/1 [==============================] - 1s 1s/step\n"
     ]
    },
    {
     "ename": "ValueError",
     "evalue": "'test' is not in list",
     "output_type": "error",
     "traceback": [
      "\u001b[1;31m---------------------------------------------------------------------------\u001b[0m",
      "\u001b[1;31mValueError\u001b[0m                                Traceback (most recent call last)",
      "Cell \u001b[1;32mIn[10], line 40\u001b[0m\n\u001b[0;32m     38\u001b[0m predicted_labels \u001b[38;5;241m=\u001b[39m [np\u001b[38;5;241m.\u001b[39margmax(pred) \u001b[38;5;28;01mfor\u001b[39;00m pred \u001b[38;5;129;01min\u001b[39;00m predictions]\n\u001b[0;32m     39\u001b[0m \u001b[38;5;66;03m# Convert labels to indices\u001b[39;00m\n\u001b[1;32m---> 40\u001b[0m true_labels \u001b[38;5;241m=\u001b[39m [label_to_index(label[\u001b[38;5;124m'\u001b[39m\u001b[38;5;124mlabel\u001b[39m\u001b[38;5;124m'\u001b[39m]) \u001b[38;5;28;01mfor\u001b[39;00m label \u001b[38;5;129;01min\u001b[39;00m test_labels] \u001b[38;5;66;03m# `label_to_index` là hàm chuyển đổi nhãn thành chỉ số\u001b[39;00m\n\u001b[0;32m     42\u001b[0m \u001b[38;5;66;03m# Tính toán độ chính xác\u001b[39;00m\n\u001b[0;32m     43\u001b[0m accuracy \u001b[38;5;241m=\u001b[39m accuracy_score(true_labels, predicted_labels)\n",
      "Cell \u001b[1;32mIn[10], line 40\u001b[0m, in \u001b[0;36m<listcomp>\u001b[1;34m(.0)\u001b[0m\n\u001b[0;32m     38\u001b[0m predicted_labels \u001b[38;5;241m=\u001b[39m [np\u001b[38;5;241m.\u001b[39margmax(pred) \u001b[38;5;28;01mfor\u001b[39;00m pred \u001b[38;5;129;01min\u001b[39;00m predictions]\n\u001b[0;32m     39\u001b[0m \u001b[38;5;66;03m# Convert labels to indices\u001b[39;00m\n\u001b[1;32m---> 40\u001b[0m true_labels \u001b[38;5;241m=\u001b[39m [\u001b[43mlabel_to_index\u001b[49m\u001b[43m(\u001b[49m\u001b[43mlabel\u001b[49m\u001b[43m[\u001b[49m\u001b[38;5;124;43m'\u001b[39;49m\u001b[38;5;124;43mlabel\u001b[39;49m\u001b[38;5;124;43m'\u001b[39;49m\u001b[43m]\u001b[49m\u001b[43m)\u001b[49m \u001b[38;5;28;01mfor\u001b[39;00m label \u001b[38;5;129;01min\u001b[39;00m test_labels] \u001b[38;5;66;03m# `label_to_index` là hàm chuyển đổi nhãn thành chỉ số\u001b[39;00m\n\u001b[0;32m     42\u001b[0m \u001b[38;5;66;03m# Tính toán độ chính xác\u001b[39;00m\n\u001b[0;32m     43\u001b[0m accuracy \u001b[38;5;241m=\u001b[39m accuracy_score(true_labels, predicted_labels)\n",
      "Cell \u001b[1;32mIn[10], line 20\u001b[0m, in \u001b[0;36mlabel_to_index\u001b[1;34m(label)\u001b[0m\n\u001b[0;32m     18\u001b[0m \u001b[38;5;28;01mdef\u001b[39;00m \u001b[38;5;21mlabel_to_index\u001b[39m(label):\n\u001b[0;32m     19\u001b[0m     unique_labels \u001b[38;5;241m=\u001b[39m [\u001b[38;5;124m'\u001b[39m\u001b[38;5;124minorganic\u001b[39m\u001b[38;5;124m'\u001b[39m, \u001b[38;5;124m'\u001b[39m\u001b[38;5;124morganic\u001b[39m\u001b[38;5;124m'\u001b[39m, \u001b[38;5;124m'\u001b[39m\u001b[38;5;124mimage\u001b[39m\u001b[38;5;124m'\u001b[39m]  \u001b[38;5;66;03m# Added 'image' to the list\u001b[39;00m\n\u001b[1;32m---> 20\u001b[0m     \u001b[38;5;28;01mreturn\u001b[39;00m \u001b[43munique_labels\u001b[49m\u001b[38;5;241;43m.\u001b[39;49m\u001b[43mindex\u001b[49m\u001b[43m(\u001b[49m\u001b[43mlabel\u001b[49m\u001b[43m)\u001b[49m\n",
      "\u001b[1;31mValueError\u001b[0m: 'test' is not in list"
     ]
    }
   ],
   "source": [
    "import os\n",
    "import cv2\n",
    "from keras.models import load_model\n",
    "from keras.preprocessing import image\n",
    "import numpy as np\n",
    "import matplotlib.pyplot as plt\n",
    "from sklearn.metrics import accuracy_score, confusion_matrix\n",
    "import seaborn as sns\n",
    "\n",
    "import sys\n",
    "sys.path.insert(0, '..')\n",
    "\n",
    "from src.utilities.data_loader import load_images_and_labels\n",
    "\n",
    "# Load model\n",
    "model = load_model('../src/models/classification_model/saved_model.h5')\n",
    "\n",
    "def label_to_index(label):\n",
    "    unique_labels = ['inorganic', 'organic', 'image', 'test']  # Added 'image' to the list\n",
    "    return unique_labels.index(label)\n",
    "\n",
    "# Load và dự đoán hình ảnh\n",
    "test_images, test_labels = load_images_and_labels('../data/images/test')\n",
    "\n",
    "# Resize images\n",
    "test_images = [cv2.resize(img, (150, 150)) for img in test_images]\n",
    "\n",
    "test_images = test_images[0:1]  # Chọn một số hình ảnh để kiểm tra\n",
    "test_labels = test_labels[0:1]  # Chọn nhãn tương ứng\n",
    "\n",
    "# Add an extra dimension to images\n",
    "test_images = [np.expand_dims(img, axis=0) for img in test_images]\n",
    "\n",
    "predictions = [model.predict(img) for img in test_images]\n",
    "\n",
    "# Chuyển đổi dự đoán và nhãn thành dạng có thể tính toán\n",
    "# Bạn cần thay đổi phần này tùy thuộc vào định dạng của model và nhãn\n",
    "predicted_labels = [np.argmax(pred) for pred in predictions]\n",
    "# Convert labels to indices\n",
    "true_labels = [label_to_index(label['label']) for label in test_labels] # `label_to_index` là hàm chuyển đổi nhãn thành chỉ số\n",
    "\n",
    "# Tính toán độ chính xác\n",
    "accuracy = accuracy_score(true_labels, predicted_labels)\n",
    "print(f\"Độ chính xác: {accuracy}\")\n",
    "\n",
    "# Vẽ biểu đồ\n",
    "cm = confusion_matrix(true_labels, predicted_labels)\n",
    "sns.heatmap(cm, annot=True)\n",
    "plt.show()\n"
   ]
  },
  {
   "cell_type": "code",
   "execution_count": null,
   "metadata": {},
   "outputs": [],
   "source": []
  }
 ],
 "metadata": {
  "kernelspec": {
   "display_name": "venv",
   "language": "python",
   "name": "python3"
  },
  "language_info": {
   "codemirror_mode": {
    "name": "ipython",
    "version": 3
   },
   "file_extension": ".py",
   "mimetype": "text/x-python",
   "name": "python",
   "nbconvert_exporter": "python",
   "pygments_lexer": "ipython3",
   "version": "3.10.5"
  }
 },
 "nbformat": 4,
 "nbformat_minor": 2
}
